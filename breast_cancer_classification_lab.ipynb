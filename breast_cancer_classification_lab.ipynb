{
 "cells": [
  {
   "cell_type": "markdown",
   "id": "25712ca6",
   "metadata": {},
   "source": [
    "## Задача 1: Загрузка и изучение данных"
   ]
  },
  {
   "cell_type": "code",
   "execution_count": null,
   "id": "d3dd014c",
   "metadata": {},
   "outputs": [],
   "source": [
    "from sklearn.datasets import load_breast_cancer"
   ]
  },
  {
   "cell_type": "code",
   "execution_count": null,
   "id": "c0463cc8",
   "metadata": {},
   "outputs": [],
   "source": [
    "import pandas as pd"
   ]
  },
  {
   "cell_type": "code",
   "execution_count": null,
   "id": "11bf96a1",
   "metadata": {},
   "outputs": [],
   "source": [
    "import numpy as np"
   ]
  },
  {
   "cell_type": "code",
   "execution_count": null,
   "id": "0415f628",
   "metadata": {},
   "outputs": [],
   "source": [
    "import matplotlib.pyplot as plt"
   ]
  },
  {
   "cell_type": "code",
   "execution_count": null,
   "id": "21663be6",
   "metadata": {},
   "outputs": [],
   "source": [
    "import seaborn as sns"
   ]
  },
  {
   "cell_type": "code",
   "execution_count": null,
   "id": "22646562",
   "metadata": {},
   "outputs": [],
   "source": [
    "data = load_breast_cancer()"
   ]
  },
  {
   "cell_type": "code",
   "execution_count": null,
   "id": "11cae4bb",
   "metadata": {},
   "outputs": [],
   "source": [
    "df = pd.DataFrame(data.data, columns=data.feature_names)"
   ]
  },
  {
   "cell_type": "code",
   "execution_count": null,
   "id": "40f69066",
   "metadata": {},
   "outputs": [],
   "source": [
    "df['target'] = data.target"
   ]
  },
  {
   "cell_type": "code",
   "execution_count": null,
   "id": "9396f60a",
   "metadata": {},
   "outputs": [],
   "source": [
    "print(df.shape)"
   ]
  },
  {
   "cell_type": "code",
   "execution_count": null,
   "id": "e5ab5406",
   "metadata": {},
   "outputs": [],
   "source": [
    "print(df.columns)"
   ]
  },
  {
   "cell_type": "code",
   "execution_count": null,
   "id": "15c574d0",
   "metadata": {},
   "outputs": [],
   "source": [
    "df.isnull().sum()"
   ]
  },
  {
   "cell_type": "markdown",
   "id": "599b8ad7",
   "metadata": {},
   "source": [
    "## Задача 2: Первичный анализ данных"
   ]
  },
  {
   "cell_type": "code",
   "execution_count": null,
   "id": "f513e292",
   "metadata": {},
   "outputs": [],
   "source": [
    "sns.countplot(x='target', data=df)"
   ]
  },
  {
   "cell_type": "code",
   "execution_count": null,
   "id": "4e055ad8",
   "metadata": {},
   "outputs": [],
   "source": [
    "df.describe()"
   ]
  },
  {
   "cell_type": "code",
   "execution_count": null,
   "id": "9df9d67f",
   "metadata": {},
   "outputs": [],
   "source": [
    "sns.scatterplot(x=df.columns[0], y=df.columns[1], hue='target', data=df)"
   ]
  },
  {
   "cell_type": "markdown",
   "id": "8b38a42b",
   "metadata": {},
   "source": [
    "## Задача 3: Предобработка данных"
   ]
  },
  {
   "cell_type": "code",
   "execution_count": null,
   "id": "a0d515df",
   "metadata": {},
   "outputs": [],
   "source": [
    "from sklearn.model_selection import train_test_split"
   ]
  },
  {
   "cell_type": "code",
   "execution_count": null,
   "id": "c5407077",
   "metadata": {},
   "outputs": [],
   "source": [
    "from sklearn.preprocessing import StandardScaler"
   ]
  },
  {
   "cell_type": "code",
   "execution_count": null,
   "id": "76a7537e",
   "metadata": {},
   "outputs": [],
   "source": [
    "X = df.drop('target', axis=1)"
   ]
  },
  {
   "cell_type": "code",
   "execution_count": null,
   "id": "809a5ce7",
   "metadata": {},
   "outputs": [],
   "source": [
    "y = df['target']"
   ]
  },
  {
   "cell_type": "code",
   "execution_count": null,
   "id": "1127fea9",
   "metadata": {},
   "outputs": [],
   "source": [
    "scaler = StandardScaler()"
   ]
  },
  {
   "cell_type": "code",
   "execution_count": null,
   "id": "9ba5263f",
   "metadata": {},
   "outputs": [],
   "source": [
    "X_scaled = scaler.fit_transform(X)"
   ]
  },
  {
   "cell_type": "code",
   "execution_count": null,
   "id": "ec57b1fa",
   "metadata": {},
   "outputs": [],
   "source": [
    "X_train, X_test, y_train, y_test = train_test_split(X_scaled, y, test_size=0.2, random_state=42)"
   ]
  },
  {
   "cell_type": "markdown",
   "id": "593a47e8",
   "metadata": {},
   "source": [
    "## Задача 4: Обучение модели (логистическая регрессия)"
   ]
  },
  {
   "cell_type": "code",
   "execution_count": null,
   "id": "6c5fad67",
   "metadata": {},
   "outputs": [],
   "source": [
    "from sklearn.linear_model import LogisticRegression"
   ]
  },
  {
   "cell_type": "code",
   "execution_count": null,
   "id": "b0eee6ff",
   "metadata": {},
   "outputs": [],
   "source": [
    "from sklearn.metrics import accuracy_score, confusion_matrix, classification_report"
   ]
  },
  {
   "cell_type": "code",
   "execution_count": null,
   "id": "0597272d",
   "metadata": {},
   "outputs": [],
   "source": [
    "lr = LogisticRegression()"
   ]
  },
  {
   "cell_type": "code",
   "execution_count": null,
   "id": "5b41d319",
   "metadata": {},
   "outputs": [],
   "source": [
    "lr.fit(X_train, y_train)"
   ]
  },
  {
   "cell_type": "code",
   "execution_count": null,
   "id": "023b2ad8",
   "metadata": {},
   "outputs": [],
   "source": [
    "y_pred = lr.predict(X_test)"
   ]
  },
  {
   "cell_type": "code",
   "execution_count": null,
   "id": "d1a2a696",
   "metadata": {},
   "outputs": [],
   "source": [
    "print('Accuracy:', accuracy_score(y_test, y_pred))"
   ]
  },
  {
   "cell_type": "code",
   "execution_count": null,
   "id": "3da2457a",
   "metadata": {},
   "outputs": [],
   "source": [
    "print(confusion_matrix(y_test, y_pred))"
   ]
  },
  {
   "cell_type": "code",
   "execution_count": null,
   "id": "bd25f4e1",
   "metadata": {},
   "outputs": [],
   "source": [
    "print(classification_report(y_test, y_pred))"
   ]
  },
  {
   "cell_type": "markdown",
   "id": "4626571d",
   "metadata": {},
   "source": [
    "## Задача 5: Сравнение с другими моделями"
   ]
  },
  {
   "cell_type": "code",
   "execution_count": null,
   "id": "10c82df9",
   "metadata": {},
   "outputs": [],
   "source": [
    "from sklearn.neighbors import KNeighborsClassifier"
   ]
  },
  {
   "cell_type": "code",
   "execution_count": null,
   "id": "f901c535",
   "metadata": {},
   "outputs": [],
   "source": [
    "from sklearn.ensemble import RandomForestClassifier"
   ]
  },
  {
   "cell_type": "code",
   "execution_count": null,
   "id": "447d3bd3",
   "metadata": {},
   "outputs": [],
   "source": [
    "from sklearn.svm import SVC"
   ]
  },
  {
   "cell_type": "code",
   "execution_count": null,
   "id": "1b51e02d",
   "metadata": {},
   "outputs": [],
   "source": [
    "models = {'KNN': KNeighborsClassifier(), 'RF': RandomForestClassifier(), 'SVC': SVC()}"
   ]
  },
  {
   "cell_type": "code",
   "execution_count": null,
   "id": "e8b0348b",
   "metadata": {},
   "outputs": [],
   "source": [
    "accuracies = {}"
   ]
  },
  {
   "cell_type": "code",
   "execution_count": null,
   "id": "429a7bf5",
   "metadata": {},
   "outputs": [],
   "source": [
    "for name, model in models.items():\n",
    "    model.fit(X_train, y_train)\n",
    "    acc = accuracy_score(y_test, model.predict(X_test))\n",
    "    accuracies[name] = acc"
   ]
  },
  {
   "cell_type": "code",
   "execution_count": null,
   "id": "00cd0855",
   "metadata": {},
   "outputs": [],
   "source": [
    "sns.barplot(x=list(accuracies.keys()), y=list(accuracies.values()))"
   ]
  },
  {
   "cell_type": "markdown",
   "id": "1e066904",
   "metadata": {},
   "source": [
    "## Задача 6: Кросс-валидация"
   ]
  },
  {
   "cell_type": "code",
   "execution_count": null,
   "id": "9428a7db",
   "metadata": {},
   "outputs": [],
   "source": [
    "from sklearn.model_selection import cross_val_score"
   ]
  },
  {
   "cell_type": "code",
   "execution_count": null,
   "id": "227a098a",
   "metadata": {},
   "outputs": [],
   "source": [
    "for name, model in models.items():\n",
    "    scores = cross_val_score(model, X, y, cv=5)\n",
    "    print(f'{name}: Mean CV accuracy = {scores.mean():.4f}')"
   ]
  },
  {
   "cell_type": "markdown",
   "id": "ec4d60b6",
   "metadata": {},
   "source": [
    "## Задача 7: ROC-кривая и AUC"
   ]
  },
  {
   "cell_type": "code",
   "execution_count": null,
   "id": "e885438f",
   "metadata": {},
   "outputs": [],
   "source": [
    "from sklearn.metrics import roc_curve, auc"
   ]
  },
  {
   "cell_type": "code",
   "execution_count": null,
   "id": "71ec5116",
   "metadata": {},
   "outputs": [],
   "source": [
    "model = RandomForestClassifier().fit(X_train, y_train)"
   ]
  },
  {
   "cell_type": "code",
   "execution_count": null,
   "id": "b5d31523",
   "metadata": {},
   "outputs": [],
   "source": [
    "probs = model.predict_proba(X_test)[:, 1]"
   ]
  },
  {
   "cell_type": "code",
   "execution_count": null,
   "id": "9aa03178",
   "metadata": {},
   "outputs": [],
   "source": [
    "fpr, tpr, _ = roc_curve(y_test, probs)"
   ]
  },
  {
   "cell_type": "code",
   "execution_count": null,
   "id": "42c90d25",
   "metadata": {},
   "outputs": [],
   "source": [
    "roc_auc = auc(fpr, tpr)"
   ]
  },
  {
   "cell_type": "code",
   "execution_count": null,
   "id": "2ded89ae",
   "metadata": {},
   "outputs": [],
   "source": [
    "plt.plot(fpr, tpr, label=f'AUC = {roc_auc:.2f}')\n",
    "plt.xlabel('False Positive Rate')\n",
    "plt.ylabel('True Positive Rate')\n",
    "plt.legend()"
   ]
  },
  {
   "cell_type": "markdown",
   "id": "c77c28ed",
   "metadata": {},
   "source": [
    "## Задача 8: Важность признаков"
   ]
  },
  {
   "cell_type": "code",
   "execution_count": null,
   "id": "0d039815",
   "metadata": {},
   "outputs": [],
   "source": [
    "importances = model.feature_importances_"
   ]
  },
  {
   "cell_type": "code",
   "execution_count": null,
   "id": "287846e9",
   "metadata": {},
   "outputs": [],
   "source": [
    "indices = np.argsort(importances)[-10:]"
   ]
  },
  {
   "cell_type": "code",
   "execution_count": null,
   "id": "c1b5ee69",
   "metadata": {},
   "outputs": [],
   "source": [
    "plt.barh(range(10), importances[indices], align='center')\n",
    "plt.yticks(range(10), [data.feature_names[i] for i in indices])"
   ]
  },
  {
   "cell_type": "markdown",
   "id": "38eb8b2a",
   "metadata": {},
   "source": [
    "## Задача 9: Гиперпараметрическая настройка"
   ]
  },
  {
   "cell_type": "code",
   "execution_count": null,
   "id": "fc64144a",
   "metadata": {},
   "outputs": [],
   "source": [
    "from sklearn.model_selection import GridSearchCV"
   ]
  },
  {
   "cell_type": "code",
   "execution_count": null,
   "id": "4caa09bc",
   "metadata": {},
   "outputs": [],
   "source": [
    "params = {'n_neighbors': range(1, 10)}"
   ]
  },
  {
   "cell_type": "code",
   "execution_count": null,
   "id": "c93dea79",
   "metadata": {},
   "outputs": [],
   "source": [
    "grid = GridSearchCV(KNeighborsClassifier(), param_grid=params, cv=5)"
   ]
  },
  {
   "cell_type": "code",
   "execution_count": null,
   "id": "c6e6edbe",
   "metadata": {},
   "outputs": [],
   "source": [
    "grid.fit(X_train, y_train)"
   ]
  },
  {
   "cell_type": "code",
   "execution_count": null,
   "id": "1b0dba61",
   "metadata": {},
   "outputs": [],
   "source": [
    "print('Best params:', grid.best_params_)"
   ]
  },
  {
   "cell_type": "code",
   "execution_count": null,
   "id": "cd046094",
   "metadata": {},
   "outputs": [],
   "source": [
    "print('Best score:', grid.best_score_)"
   ]
  },
  {
   "cell_type": "markdown",
   "id": "21c5af89",
   "metadata": {},
   "source": [
    "## Задача 10: Выводы"
   ]
  },
  {
   "cell_type": "code",
   "execution_count": null,
   "id": "5e4151ee",
   "metadata": {},
   "outputs": [],
   "source": [
    "# Ответьте на следующие вопросы:"
   ]
  },
  {
   "cell_type": "code",
   "execution_count": null,
   "id": "78ce4a2c",
   "metadata": {},
   "outputs": [],
   "source": [
    "# 1. Какая модель показала наибольшую точность?"
   ]
  },
  {
   "cell_type": "code",
   "execution_count": null,
   "id": "c33c600a",
   "metadata": {},
   "outputs": [],
   "source": [
    "# 2. Какие признаки оказались наиболее значимыми?"
   ]
  },
  {
   "cell_type": "code",
   "execution_count": null,
   "id": "55d72f73",
   "metadata": {},
   "outputs": [],
   "source": [
    "# 3. Как масштабирование повлияло на модели?"
   ]
  },
  {
   "cell_type": "code",
   "execution_count": null,
   "id": "6e166cfb",
   "metadata": {},
   "outputs": [],
   "source": [
    "# 4. Что вы узнали из анализа ROC и AUC?"
   ]
  }
 ],
 "metadata": {},
 "nbformat": 4,
 "nbformat_minor": 5
}